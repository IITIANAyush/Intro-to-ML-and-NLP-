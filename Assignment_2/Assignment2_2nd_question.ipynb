{
 "cells": [
  {
   "cell_type": "code",
   "execution_count": 38,
   "metadata": {},
   "outputs": [
    {
     "name": "stderr",
     "output_type": "stream",
     "text": [
      "[nltk_data] Downloading package punkt_tab to ./nltk_data...\n",
      "[nltk_data]   Package punkt_tab is already up-to-date!\n",
      "[nltk_data] Downloading package stopwords to ./nltk_data...\n",
      "[nltk_data]   Package stopwords is already up-to-date!\n",
      "[nltk_data] Downloading package wordnet to /Users/ab/nltk_data...\n",
      "[nltk_data]   Package wordnet is already up-to-date!\n",
      "[nltk_data] Downloading package omw-1.4 to /Users/ab/nltk_data...\n",
      "[nltk_data]   Package omw-1.4 is already up-to-date!\n"
     ]
    }
   ],
   "source": [
    "import pandas as pd\n",
    "import numpy as np\n",
    "import gensim.downloader as api\n",
    "import nltk\n",
    "import re\n",
    "import string\n",
    "import contractions\n",
    "import emoji \n",
    "from nltk.corpus import stopwords\n",
    "from nltk.tokenize import word_tokenize\n",
    "from sklearn.linear_model import LogisticRegression\n",
    "from sklearn.model_selection import train_test_split\n",
    "from sklearn.metrics import accuracy_score\n",
    "from nltk.stem import WordNetLemmatizer\n",
    "nltk.download('punkt_tab', download_dir='./nltk_data')\n",
    "nltk.download('stopwords', download_dir='./nltk_data')\n",
    "nltk.download('wordnet')\n",
    "nltk.download('omw-1.4')\n",
    "\n",
    "nltk.data.path.append('./nltk_data')"
   ]
  },
  {
   "cell_type": "code",
   "execution_count": 39,
   "metadata": {},
   "outputs": [
    {
     "name": "stdout",
     "output_type": "stream",
     "text": [
      "                 tweet_id airline_sentiment  airline_sentiment_confidence  \\\n",
      "0      570306133677760513           neutral                        1.0000   \n",
      "1      570301130888122368          positive                        0.3486   \n",
      "2      570301083672813571           neutral                        0.6837   \n",
      "3      570301031407624196          negative                        1.0000   \n",
      "4      570300817074462722          negative                        1.0000   \n",
      "...                   ...               ...                           ...   \n",
      "14635  569587686496825344          positive                        0.3487   \n",
      "14636  569587371693355008          negative                        1.0000   \n",
      "14637  569587242672398336           neutral                        1.0000   \n",
      "14638  569587188687634433          negative                        1.0000   \n",
      "14639  569587140490866689           neutral                        0.6771   \n",
      "\n",
      "               negativereason  negativereason_confidence         airline  \\\n",
      "0                         NaN                        NaN  Virgin America   \n",
      "1                         NaN                     0.0000  Virgin America   \n",
      "2                         NaN                        NaN  Virgin America   \n",
      "3                  Bad Flight                     0.7033  Virgin America   \n",
      "4                  Can't Tell                     1.0000  Virgin America   \n",
      "...                       ...                        ...             ...   \n",
      "14635                     NaN                     0.0000        American   \n",
      "14636  Customer Service Issue                     1.0000        American   \n",
      "14637                     NaN                        NaN        American   \n",
      "14638  Customer Service Issue                     0.6659        American   \n",
      "14639                     NaN                     0.0000        American   \n",
      "\n",
      "      airline_sentiment_gold             name negativereason_gold  \\\n",
      "0                        NaN          cairdin                 NaN   \n",
      "1                        NaN         jnardino                 NaN   \n",
      "2                        NaN       yvonnalynn                 NaN   \n",
      "3                        NaN         jnardino                 NaN   \n",
      "4                        NaN         jnardino                 NaN   \n",
      "...                      ...              ...                 ...   \n",
      "14635                    NaN  KristenReenders                 NaN   \n",
      "14636                    NaN         itsropes                 NaN   \n",
      "14637                    NaN         sanyabun                 NaN   \n",
      "14638                    NaN       SraJackson                 NaN   \n",
      "14639                    NaN        daviddtwu                 NaN   \n",
      "\n",
      "       retweet_count                                               text  \\\n",
      "0                  0                @VirginAmerica What @dhepburn said.   \n",
      "1                  0  @VirginAmerica plus you've added commercials t...   \n",
      "2                  0  @VirginAmerica I didn't today... Must mean I n...   \n",
      "3                  0  @VirginAmerica it's really aggressive to blast...   \n",
      "4                  0  @VirginAmerica and it's a really big bad thing...   \n",
      "...              ...                                                ...   \n",
      "14635              0  @AmericanAir thank you we got on a different f...   \n",
      "14636              0  @AmericanAir leaving over 20 minutes Late Flig...   \n",
      "14637              0  @AmericanAir Please bring American Airlines to...   \n",
      "14638              0  @AmericanAir you have my money, you change my ...   \n",
      "14639              0  @AmericanAir we have 8 ppl so we need 2 know h...   \n",
      "\n",
      "      tweet_coord              tweet_created tweet_location  \\\n",
      "0             NaN  2015-02-24 11:35:52 -0800            NaN   \n",
      "1             NaN  2015-02-24 11:15:59 -0800            NaN   \n",
      "2             NaN  2015-02-24 11:15:48 -0800      Lets Play   \n",
      "3             NaN  2015-02-24 11:15:36 -0800            NaN   \n",
      "4             NaN  2015-02-24 11:14:45 -0800            NaN   \n",
      "...           ...                        ...            ...   \n",
      "14635         NaN  2015-02-22 12:01:01 -0800            NaN   \n",
      "14636         NaN  2015-02-22 11:59:46 -0800          Texas   \n",
      "14637         NaN  2015-02-22 11:59:15 -0800  Nigeria,lagos   \n",
      "14638         NaN  2015-02-22 11:59:02 -0800     New Jersey   \n",
      "14639         NaN  2015-02-22 11:58:51 -0800     dallas, TX   \n",
      "\n",
      "                    user_timezone  \n",
      "0      Eastern Time (US & Canada)  \n",
      "1      Pacific Time (US & Canada)  \n",
      "2      Central Time (US & Canada)  \n",
      "3      Pacific Time (US & Canada)  \n",
      "4      Pacific Time (US & Canada)  \n",
      "...                           ...  \n",
      "14635                         NaN  \n",
      "14636                         NaN  \n",
      "14637                         NaN  \n",
      "14638  Eastern Time (US & Canada)  \n",
      "14639                         NaN  \n",
      "\n",
      "[14640 rows x 15 columns]\n"
     ]
    }
   ],
   "source": [
    "df= pd.read_csv(\"twitter.csv\")\n",
    "print(df)"
   ]
  },
  {
   "cell_type": "code",
   "execution_count": 40,
   "metadata": {},
   "outputs": [],
   "source": [
    "stop_words = set(stopwords.words('english'))\n",
    "lemmatizer = WordNetLemmatizer()\n",
    "\n",
    "def preprocess(text):\n",
    " tokens = word_tokenize(text.lower())  \n",
    " filtered = [word for word in tokens if word.isalpha() and word not in stop_words]\n",
    " return filtered\n",
    "\n"
   ]
  },
  {
   "cell_type": "code",
   "execution_count": 41,
   "metadata": {},
   "outputs": [],
   "source": [
    "def preprocess_tweet(text):\n",
    "    text = text.lower()\n",
    "    \n",
    "    text = contractions.fix(text)\n",
    "\n",
    "    text = re.sub(r\"http\\S+|www\\S+|https\\S+\", '', text)  \n",
    "    text = re.sub(r\"@\\w+\", '', text)  \n",
    "    text = re.sub(r\"#\", '', text) \n",
    "    text = emoji.replace_emoji(text, replace='')  \n",
    "\n",
    "    text = text.translate(str.maketrans('', '', string.punctuation))\n",
    "\n",
    "    tokens = word_tokenize(text)\n",
    "\n",
    "    cleaned = [\n",
    "        lemmatizer.lemmatize(word)\n",
    "        for word in tokens\n",
    "        if word.isalpha() and word not in stop_words\n",
    "    ]\n",
    "\n",
    "    return cleaned"
   ]
  },
  {
   "cell_type": "code",
   "execution_count": 42,
   "metadata": {},
   "outputs": [
    {
     "name": "stdout",
     "output_type": "stream",
     "text": [
      "0                                                   [said]\n",
      "1             [plus, added, commercial, experience, tacky]\n",
      "2           [today, must, mean, need, take, another, trip]\n",
      "3        [really, aggressive, blast, obnoxious, enterta...\n",
      "4                                [really, big, bad, thing]\n",
      "                               ...                        \n",
      "14635             [thank, got, different, flight, chicago]\n",
      "14636    [leaving, minute, late, flight, warning, commu...\n",
      "14637                   [please, bring, american, airline]\n",
      "14638    [money, change, flight, answer, phone, suggest...\n",
      "14639    [people, need, know, many, seat, next, flight,...\n",
      "Name: tokens, Length: 14640, dtype: object\n"
     ]
    }
   ],
   "source": [
    "df[\"tokens\"] = df[\"text\"].apply(preprocess_tweet)\n",
    "print(df[\"tokens\"])\n"
   ]
  },
  {
   "cell_type": "code",
   "execution_count": 45,
   "metadata": {},
   "outputs": [],
   "source": [
    "w2v_model = api.load(\"word2vec-google-news-300\")"
   ]
  },
  {
   "cell_type": "code",
   "execution_count": 46,
   "metadata": {},
   "outputs": [],
   "source": [
    "def text_to_vector(tokens, model, dim=300):\n",
    "    vectors = [model[word] for word in tokens if word in model]\n",
    "    if vectors:\n",
    "        return np.mean(vectors, axis=0)\n",
    "    else:\n",
    "        return np.zeros(dim)\n"
   ]
  },
  {
   "cell_type": "code",
   "execution_count": 52,
   "metadata": {},
   "outputs": [
    {
     "name": "stderr",
     "output_type": "stream",
     "text": [
      "/Users/ab/opt/anaconda3/lib/python3.12/site-packages/sklearn/linear_model/_logistic.py:1247: FutureWarning: 'multi_class' was deprecated in version 1.5 and will be removed in 1.7. From then on, it will always use 'multinomial'. Leave it to its default value to avoid this warning.\n",
      "  warnings.warn(\n"
     ]
    },
    {
     "name": "stdout",
     "output_type": "stream",
     "text": [
      "Test Accuracy: 0.768255056564964\n"
     ]
    }
   ],
   "source": [
    "df[\"tokens\"] = df[\"text\"].apply(preprocess_tweet)\n",
    "df[\"vector\"] = df[\"tokens\"].apply(lambda x: text_to_vector(x, w2v_model))\n",
    "\n",
    "df = df[df[\"vector\"].apply(lambda x: x.any())]\n",
    "\n",
    "\n",
    "X = np.vstack(df[\"vector\"].values)\n",
    "y = df[\"airline_sentiment\"].values \n",
    "\n",
    "X_train, X_test, y_train, y_test = train_test_split(X, y, test_size=0.2, random_state=1)\n",
    "\n",
    "clf = LogisticRegression(multi_class='multinomial', solver='lbfgs', max_iter=1000)\n",
    "clf.fit(X_train, y_train)\n",
    "\n",
    "\n",
    "y_pred = clf.predict(X_test)\n",
    "print(\"Test Accuracy:\", accuracy_score(y_test, y_pred))"
   ]
  },
  {
   "cell_type": "code",
   "execution_count": 49,
   "metadata": {},
   "outputs": [
    {
     "name": "stdout",
     "output_type": "stream",
     "text": [
      "Predicted Sentiment: negative\n",
      "Predicted Sentiment: positive\n"
     ]
    }
   ],
   "source": [
    "def predict_tweet_sentiment(model, w2v_model, tweet):\n",
    "    tokens = preprocess_tweet(tweet)\n",
    "    vector = text_to_vector(tokens, w2v_model).reshape(1, -1)\n",
    "    return model.predict(vector)[0]\n",
    "test_tweet = \"I'm not sure how I feel about this service.\"\n",
    "print(\"Predicted Sentiment:\", predict_tweet_sentiment(clf, w2v_model, test_tweet))\n",
    "test_tweet_2= \"best flight i ever took\"\n",
    "print(\"Predicted Sentiment:\", predict_tweet_sentiment(clf, w2v_model, test_tweet_2))\n"
   ]
  }
 ],
 "metadata": {
  "kernelspec": {
   "display_name": "base",
   "language": "python",
   "name": "python3"
  },
  "language_info": {
   "codemirror_mode": {
    "name": "ipython",
    "version": 3
   },
   "file_extension": ".py",
   "mimetype": "text/x-python",
   "name": "python",
   "nbconvert_exporter": "python",
   "pygments_lexer": "ipython3",
   "version": "3.12.2"
  }
 },
 "nbformat": 4,
 "nbformat_minor": 2
}
