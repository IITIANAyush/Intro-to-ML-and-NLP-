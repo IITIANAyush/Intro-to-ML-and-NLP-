{
 "cells": [
  {
   "cell_type": "code",
   "execution_count": 93,
   "metadata": {},
   "outputs": [],
   "source": [
    "import pandas as pd\n",
    "import random\n",
    "\n",
    "from sklearn.feature_extraction.text import CountVectorizer\n",
    "from sklearn.model_selection import train_test_split\n",
    "from sklearn.naive_bayes import MultinomialNB\n",
    "from sklearn.metrics import accuracy_score\n"
   ]
  },
  {
   "cell_type": "markdown",
   "metadata": {},
   "source": [
    "1st part , generating a database using templates"
   ]
  },
  {
   "cell_type": "code",
   "execution_count": 94,
   "metadata": {},
   "outputs": [],
   "source": [
    "positive_templates = [\n",
    "    \"This movie was {adjective1} and {adjective2}!\",\n",
    "    \"Absolutely {adjective1}! A must-watch for everyone.\",\n",
    "    \"I found it to be very {adjective1} and {adjective2}.\",\n",
    "    \"What a {adjective1} film, truly {adjective2}.\",\n",
    "    \"Highly recommended! {adjective1} performances and a {adjective2} plot.\",\n",
    "    \"A {adjective1} cinematic experience.\",\n",
    "    \"So {adjective1}, I couldn't stop watching. Truly {adjective2}.\",\n",
    "    \"Loved every {adjective1} minute of it.\",\n",
    "    \"Pure {adjective1} entertainment.\",\n",
    "    \"Simply {adjective1} and {adjective2}.\"\n",
    "]\n",
    "\n",
    "negative_templates = [\n",
    "    \"This movie was {adjective1} and {adjective2}.\",\n",
    "    \"Absolutely {adjective1}! Don't waste your time.\",\n",
    "    \"I found it to be very {adjective1} and {adjective2}.\",\n",
    "    \"What a {adjective1} film, truly {adjective2}.\",\n",
    "    \"Not recommended. {adjective1} performances and a {adjective2} plot.\",\n",
    "    \"A {adjective1} cinematic experience.\",\n",
    "    \"So {adjective1}, I had to turn it off. Truly {adjective2}.\",\n",
    "    \"Regretted every {adjective1} minute of it.\",\n",
    "    \"Pure {adjective1} disappointment.\",\n",
    "    \"Simply {adjective1} and {adjective2}.\"\n",
    "]\n",
    "\n",
    "positive_adjectives = [\n",
    "    \"amazing\", \"fantastic\", \"brilliant\", \"great\", \"excellent\",\n",
    "    \"superb\", \"wonderful\", \"enjoyable\", \"captivating\", \"mesmerizing\",\n",
    "    \"thrilling\", \"insightful\", \"compelling\", \"memorable\", \"spectacular\"\n",
    "]\n",
    "\n",
    "negative_adjectives = [\n",
    "    \"terrible\", \"horrible\", \"bad\", \"awful\", \"disappointing\",\n",
    "    \"boring\", \"dull\", \"uninspired\", \"mediocre\", \"confusing\",\n",
    "    \"predictable\", \"pointless\", \"unwatchable\", \"sloppy\", \"frustrating\"\n",
    "]"
   ]
  },
  {
   "cell_type": "code",
   "execution_count": 95,
   "metadata": {},
   "outputs": [],
   "source": [
    "def generate_review(sentiment_type):\n",
    "    if sentiment_type == \"positive\":\n",
    "        template = random.choice(positive_templates)\n",
    "        adj1 = random.choice(positive_adjectives)\n",
    "        adj2 = random.choice(positive_adjectives)\n",
    "    else:\n",
    "        template = random.choice(negative_templates)\n",
    "        adj1 = random.choice(negative_adjectives)\n",
    "        adj2 = random.choice(negative_adjectives)\n",
    "    return template.format(adjective1=adj1, adjective2=adj2)"
   ]
  },
  {
   "cell_type": "code",
   "execution_count": 96,
   "metadata": {},
   "outputs": [],
   "source": [
    "positive_reviews_data = []\n",
    "for _ in range(50):\n",
    "    positive_reviews_data.append({\n",
    "        \"review\": generate_review(\"positive\"),\n",
    "        \"sentiment\": \"positive\"\n",
    "    })\n",
    "\n",
    "negative_reviews_data = []\n",
    "for _ in range(50):\n",
    "    negative_reviews_data.append({\n",
    "        \"review\": generate_review(\"negative\"),\n",
    "        \"sentiment\": \"negative\"\n",
    "    })"
   ]
  },
  {
   "cell_type": "code",
   "execution_count": 97,
   "metadata": {},
   "outputs": [
    {
     "name": "stdout",
     "output_type": "stream",
     "text": [
      "Generated DataFrame:\n",
      "                                              review sentiment\n",
      "0               What a unwatchable film, truly dull.  negative\n",
      "1   Absolutely excellent! A must-watch for everyone.  positive\n",
      "2             Regretted every mediocre minute of it.  negative\n",
      "3       Absolutely great! A must-watch for everyone.  positive\n",
      "4                 Pure disappointing disappointment.  negative\n",
      "..                                               ...       ...\n",
      "95                        Pure awful disappointment.  negative\n",
      "96                A uninspired cinematic experience.  negative\n",
      "97               Loved every memorable minute of it.  positive\n",
      "98               Regretted every awful minute of it.  negative\n",
      "99                      A dull cinematic experience.  negative\n",
      "\n",
      "[100 rows x 2 columns]\n"
     ]
    }
   ],
   "source": [
    "all_reviews_data = positive_reviews_data + negative_reviews_data\n",
    "random.shuffle(all_reviews_data)\n",
    "\n",
    "df = pd.DataFrame(all_reviews_data)\n",
    "\n",
    "print(\"Generated DataFrame:\")\n",
    "print(df)\n"
   ]
  },
  {
   "cell_type": "markdown",
   "metadata": {},
   "source": [
    "2nd part:\n",
    "tokenizing the reviews into 80 % training set and 20% testing set, as asked in the question"
   ]
  },
  {
   "cell_type": "code",
   "execution_count": 98,
   "metadata": {},
   "outputs": [],
   "source": [
    "vectorizer = CountVectorizer(max_features=500, stop_words='english')\n",
    "X = vectorizer.fit_transform(df['review'])\n",
    "y = df['sentiment'] \n",
    "X_train, X_test, y_train, y_test = train_test_split(X, y, test_size=0.2, random_state=42)"
   ]
  },
  {
   "cell_type": "markdown",
   "metadata": {},
   "source": [
    "part 3rd:\n",
    "training the model based on distribited data frame and testing its accuracy"
   ]
  },
  {
   "cell_type": "code",
   "execution_count": 99,
   "metadata": {},
   "outputs": [
    {
     "name": "stdout",
     "output_type": "stream",
     "text": [
      "\n",
      "--- Multinomial Naive Bayes Classifier Training Complete ---\n",
      "Accuracy on the test set: 95.00%\n"
     ]
    }
   ],
   "source": [
    "model = MultinomialNB()\n",
    "model.fit(X_train, y_train)\n",
    "y_pred = model.predict(X_test)\n",
    "accuracy = accuracy_score(y_test, y_pred)\n",
    "print(\"\\n--- Multinomial Naive Bayes Classifier Training Complete ---\")\n",
    "print(f\"Accuracy on the test set: {accuracy*100:.2f}%\")"
   ]
  },
  {
   "cell_type": "markdown",
   "metadata": {},
   "source": [
    "ps: the accuracy is mostly 100 %due to synthetic database, the accuracy still drops to 95% sometimes "
   ]
  },
  {
   "cell_type": "markdown",
   "metadata": {},
   "source": [
    "4th part"
   ]
  },
  {
   "cell_type": "code",
   "execution_count": 100,
   "metadata": {},
   "outputs": [],
   "source": [
    "def predict_review_sentiment(model_param, vectorizer_param, review_text):\n",
    "        review_vectorized = vectorizer_param.transform([review_text])\n",
    "        predicted_sentiment = model_param.predict(review_vectorized)[0]\n",
    "        return predicted_sentiment"
   ]
  },
  {
   "cell_type": "code",
   "execution_count": 101,
   "metadata": {},
   "outputs": [
    {
     "name": "stdout",
     "output_type": "stream",
     "text": [
      "Review: 'This was an absolutely stunning and captivating film!' -> Predicted Sentiment: positive\n",
      "Review: 'What a dull and disappointing movie, I hated it.' -> Predicted Sentiment: negative\n",
      "Review: 'The movie had some good parts but was largely okay.' -> Predicted Sentiment: positive\n",
      "Review: 'A truly boring and pointless film, completely unwatchable.' -> Predicted Sentiment: negative\n",
      "Review: 'Highly enjoyable and a wonderful experience.' -> Predicted Sentiment: positive\n"
     ]
    }
   ],
   "source": [
    "test_review_positive = \"This was an absolutely stunning and captivating film!\"\n",
    "predicted_sentiment_positive = predict_review_sentiment(model, vectorizer, test_review_positive)\n",
    "print(f\"Review: '{test_review_positive}' -> Predicted Sentiment: {predicted_sentiment_positive}\")\n",
    "\n",
    "# Test with a negative-leaning review\n",
    "test_review_negative = \"What a dull and disappointing movie, I hated it.\"\n",
    "predicted_sentiment_negative = predict_review_sentiment(model, vectorizer, test_review_negative)\n",
    "print(f\"Review: '{test_review_negative}' -> Predicted Sentiment: {predicted_sentiment_negative}\")\n",
    "\n",
    "# Test with a review that might be ambiguous or out of vocabulary\n",
    "test_review_ambiguous = \"The movie had some good parts but was largely okay.\"\n",
    "predicted_sentiment_ambiguous = predict_review_sentiment(model, vectorizer, test_review_ambiguous)\n",
    "print(f\"Review: '{test_review_ambiguous}' -> Predicted Sentiment: {predicted_sentiment_ambiguous}\")\n",
    "\n",
    "test_review_new = \"A truly boring and pointless film, completely unwatchable.\"\n",
    "predicted_sentiment_new = predict_review_sentiment(model, vectorizer, test_review_new)\n",
    "print(f\"Review: '{test_review_new}' -> Predicted Sentiment: {predicted_sentiment_new}\")\n",
    "\n",
    "test_review_new_pos = \"Highly enjoyable and a wonderful experience.\"\n",
    "predicted_sentiment_new_pos = predict_review_sentiment(model, vectorizer, test_review_new_pos)\n",
    "print(f\"Review: '{test_review_new_pos}' -> Predicted Sentiment: {predicted_sentiment_new_pos}\")"
   ]
  }
 ],
 "metadata": {
  "kernelspec": {
   "display_name": "base",
   "language": "python",
   "name": "python3"
  },
  "language_info": {
   "codemirror_mode": {
    "name": "ipython",
    "version": 3
   },
   "file_extension": ".py",
   "mimetype": "text/x-python",
   "name": "python",
   "nbconvert_exporter": "python",
   "pygments_lexer": "ipython3",
   "version": "3.12.2"
  }
 },
 "nbformat": 4,
 "nbformat_minor": 2
}
