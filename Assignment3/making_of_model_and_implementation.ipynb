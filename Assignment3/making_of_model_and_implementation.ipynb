{
 "cells": [
  {
   "cell_type": "code",
   "execution_count": 1,
   "id": "16b3c88d-f110-403d-8133-e9ba51ed73b1",
   "metadata": {},
   "outputs": [],
   "source": [
    "from datasets import load_dataset\n",
    "from transformers import AutoTokenizer, AutoModelForSequenceClassification, TrainingArguments, Trainer\n",
    "from transformers import DataCollatorWithPadding\n",
    "import evaluate\n",
    "import torch\n",
    "import numpy as np\n",
    "from sklearn.metrics import accuracy_score, f1_score\n",
    "from accelerate import Accelerator\n"
   ]
  },
  {
   "cell_type": "markdown",
   "id": "cd2a8faa-906f-4870-975c-210f2d59df79",
   "metadata": {},
   "source": [
    "part 1: loading the IMDb dataset library"
   ]
  },
  {
   "cell_type": "code",
   "execution_count": 2,
   "id": "f8381fef-6c2f-4104-83af-1a2293248df8",
   "metadata": {},
   "outputs": [],
   "source": [
    "dataset= load_dataset(\"IMDb\")"
   ]
  },
  {
   "cell_type": "markdown",
   "id": "dfa43a58-b522-4129-ad6f-79e9ee49bc9e",
   "metadata": {},
   "source": [
    "part 2: pre processing of DATA"
   ]
  },
  {
   "cell_type": "code",
   "execution_count": 3,
   "id": "18f04d8e-ca40-442d-ac14-c687ff462686",
   "metadata": {},
   "outputs": [
    {
     "data": {
      "application/vnd.jupyter.widget-view+json": {
       "model_id": "f9d9f02a11244790a1fb228a5422ac44",
       "version_major": 2,
       "version_minor": 0
      },
      "text/plain": [
       "Map:   0%|          | 0/25000 [00:00<?, ? examples/s]"
      ]
     },
     "metadata": {},
     "output_type": "display_data"
    }
   ],
   "source": [
    "checkpoints= \"bert-base-uncased\"\n",
    "tokenizer=AutoTokenizer.from_pretrained(checkpoints)\n",
    "\n",
    "def tokenize_function(abcd):\n",
    "    return tokenizer(abcd[\"text\"], truncation =True)\n",
    "tokenized_datasets = dataset.map(tokenize_function,batched=True)"
   ]
  },
  {
   "cell_type": "markdown",
   "id": "34956a2a-67f4-41c7-91e0-7ad4eea94868",
   "metadata": {},
   "source": [
    "part 2 - contunation- pre_precessing of DATA "
   ]
  },
  {
   "cell_type": "code",
   "execution_count": 5,
   "id": "66cdfe7a-4896-4664-947c-1996f17ef365",
   "metadata": {},
   "outputs": [
    {
     "name": "stderr",
     "output_type": "stream",
     "text": [
      "Some weights of BertForSequenceClassification were not initialized from the model checkpoint at bert-base-uncased and are newly initialized: ['classifier.bias', 'classifier.weight']\n",
      "You should probably TRAIN this model on a down-stream task to be able to use it for predictions and inference.\n"
     ]
    }
   ],
   "source": [
    "data_collator = DataCollatorWithPadding(tokenizer=tokenizer)\n",
    "model = AutoModelForSequenceClassification.from_pretrained(checkpoints, num_labels=2)\n",
    "train_dataset = tokenized_datasets[\"train\"].shuffle(seed=42).select(range(2000))\n",
    "test_dataset = tokenized_datasets[\"test\"].shuffle(seed=42).select(range(1000))\n"
   ]
  },
  {
   "cell_type": "code",
   "execution_count": 6,
   "id": "d557cb39-82a1-4a69-956e-26346be3ce2c",
   "metadata": {},
   "outputs": [],
   "source": [
    "def compute_metrics(eval_pred):\n",
    "    logits, labels = eval_pred.predictions, eval_pred.label_ids\n",
    "    preds = np.argmax(logits, axis=1)\n",
    "    return {\n",
    "        \"accuracy\": accuracy_score(labels, preds),\n",
    "        \"f1\": f1_score(labels, preds)\n",
    "    }"
   ]
  },
  {
   "cell_type": "code",
   "execution_count": 7,
   "id": "87bd7dfe-6e7a-49d5-96c8-508ee0d7c1fd",
   "metadata": {},
   "outputs": [
    {
     "name": "stderr",
     "output_type": "stream",
     "text": [
      "/home/ayush/venv-ml/lib/python3.10/site-packages/transformers/training_args.py:1474: FutureWarning: `evaluation_strategy` is deprecated and will be removed in version 4.46 of 🤗 Transformers. Use `eval_strategy` instead\n",
      "  warnings.warn(\n"
     ]
    },
    {
     "name": "stdout",
     "output_type": "stream",
     "text": [
      "IntervalStrategy.EPOCH\n",
      "✅ Works!\n"
     ]
    }
   ],
   "source": [
    "from transformers.training_args import IntervalStrategy\n",
    "\n",
    "training_args = TrainingArguments(\n",
    "    output_dir=\"./test\",\n",
    "    evaluation_strategy=\"epoch\",\n",
    "    save_strategy=\"epoch\",\n",
    "    per_device_train_batch_size=4,\n",
    "    per_device_eval_batch_size=4,\n",
    "    num_train_epochs=1,\n",
    "    logging_dir=\"./logs\",\n",
    "    logging_steps=5\n",
    ")\n",
    "print(\"✅ Works!\")\n",
    "\n",
    "\n",
    "trainer = Trainer(\n",
    "    model=model,\n",
    "    args=training_args,\n",
    "    train_dataset=train_dataset,\n",
    "    eval_dataset=test_dataset,\n",
    "    tokenizer=tokenizer,\n",
    "    data_collator=data_collator,\n",
    "    compute_metrics=compute_metrics,\n",
    ")"
   ]
  },
  {
   "cell_type": "code",
   "execution_count": 8,
   "id": "36fe09a3-8079-42e1-a4d1-08a64a843546",
   "metadata": {},
   "outputs": [
    {
     "data": {
      "text/html": [
       "\n",
       "    <div>\n",
       "      \n",
       "      <progress value='500' max='500' style='width:300px; height:20px; vertical-align: middle;'></progress>\n",
       "      [500/500 03:23, Epoch 1/1]\n",
       "    </div>\n",
       "    <table border=\"1\" class=\"dataframe\">\n",
       "  <thead>\n",
       " <tr style=\"text-align: left;\">\n",
       "      <th>Epoch</th>\n",
       "      <th>Training Loss</th>\n",
       "      <th>Validation Loss</th>\n",
       "      <th>Accuracy</th>\n",
       "      <th>F1</th>\n",
       "    </tr>\n",
       "  </thead>\n",
       "  <tbody>\n",
       "    <tr>\n",
       "      <td>1</td>\n",
       "      <td>0.240400</td>\n",
       "      <td>0.411966</td>\n",
       "      <td>0.887000</td>\n",
       "      <td>0.888450</td>\n",
       "    </tr>\n",
       "  </tbody>\n",
       "</table><p>"
      ],
      "text/plain": [
       "<IPython.core.display.HTML object>"
      ]
     },
     "metadata": {},
     "output_type": "display_data"
    },
    {
     "data": {
      "text/plain": [
       "TrainOutput(global_step=500, training_loss=0.5227874684929847, metrics={'train_runtime': 203.5998, 'train_samples_per_second': 9.823, 'train_steps_per_second': 2.456, 'total_flos': 431818686278880.0, 'train_loss': 0.5227874684929847, 'epoch': 1.0})"
      ]
     },
     "execution_count": 8,
     "metadata": {},
     "output_type": "execute_result"
    }
   ],
   "source": [
    "trainer.train()"
   ]
  },
  {
   "cell_type": "markdown",
   "id": "62dd8d48-3999-4a10-996b-afddb07375cf",
   "metadata": {},
   "source": [
    "part 4 and 5: Evaluating model's accuracy and saving it"
   ]
  },
  {
   "cell_type": "code",
   "execution_count": 11,
   "id": "d50d5dbb-0dd7-4adc-af2a-ba81e1ffb9bb",
   "metadata": {},
   "outputs": [
    {
     "data": {
      "text/html": [
       "\n",
       "    <div>\n",
       "      \n",
       "      <progress value='250' max='250' style='width:300px; height:20px; vertical-align: middle;'></progress>\n",
       "      [250/250 00:22]\n",
       "    </div>\n",
       "    "
      ],
      "text/plain": [
       "<IPython.core.display.HTML object>"
      ]
     },
     "metadata": {},
     "output_type": "display_data"
    },
    {
     "name": "stdout",
     "output_type": "stream",
     "text": [
      "Evaluation Results: {'eval_loss': 0.4119659960269928, 'eval_accuracy': 0.887, 'eval_f1': 0.8884501480750246, 'eval_runtime': 22.6127, 'eval_samples_per_second': 44.223, 'eval_steps_per_second': 11.056, 'epoch': 1.0}\n"
     ]
    },
    {
     "data": {
      "text/plain": [
       "('./fine-tuned-bert-imdb/tokenizer_config.json',\n",
       " './fine-tuned-bert-imdb/special_tokens_map.json',\n",
       " './fine-tuned-bert-imdb/vocab.txt',\n",
       " './fine-tuned-bert-imdb/added_tokens.json',\n",
       " './fine-tuned-bert-imdb/tokenizer.json')"
      ]
     },
     "execution_count": 11,
     "metadata": {},
     "output_type": "execute_result"
    }
   ],
   "source": [
    "eval_results = trainer.evaluate()\n",
    "print(f\"Evaluation Results: {eval_results}\")\n",
    "trainer.save_model(\"./fine-tuned-bert-imdb\")\n",
    "tokenizer.save_pretrained(\"./fine-tuned-bert-imdb\")"
   ]
  },
  {
   "cell_type": "markdown",
   "id": "3e8adc3f-0fba-4d37-9ecc-7b1b59b0a812",
   "metadata": {},
   "source": [
    "part 5: demonstrating how to load it for further projects:"
   ]
  },
  {
   "cell_type": "code",
   "execution_count": 14,
   "id": "f1842c39-fb24-4249-899a-54ce424489b1",
   "metadata": {},
   "outputs": [
    {
     "data": {
      "text/plain": [
       "[{'label': 'LABEL_1', 'score': 0.9976544976234436}]"
      ]
     },
     "execution_count": 14,
     "metadata": {},
     "output_type": "execute_result"
    }
   ],
   "source": [
    "from transformers import pipeline\n",
    "\n",
    "sentiment_pipe = pipeline(\n",
    "    \"sentiment-analysis\",\n",
    "    model=\"./fine-tuned-bert-imdb\",\n",
    "    tokenizer=\"./fine-tuned-bert-imdb/\"\n",
    ")\n",
    "\n",
    "sentiment_pipe(\"I really enjoyed this movie.\")\n"
   ]
  }
 ],
 "metadata": {
  "kernelspec": {
   "display_name": "Python (venv-ml)",
   "language": "python",
   "name": "venv-ml"
  },
  "language_info": {
   "codemirror_mode": {
    "name": "ipython",
    "version": 3
   },
   "file_extension": ".py",
   "mimetype": "text/x-python",
   "name": "python",
   "nbconvert_exporter": "python",
   "pygments_lexer": "ipython3",
   "version": "3.10.12"
  }
 },
 "nbformat": 4,
 "nbformat_minor": 5
}
