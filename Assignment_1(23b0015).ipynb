{
 "cells": [
  {
   "cell_type": "code",
   "execution_count": 1,
   "id": "9eb666e5-2dcd-4c88-826a-3c185c325694",
   "metadata": {},
   "outputs": [],
   "source": [
    "import numpy as np\n",
    "import pandas as pd\n",
    "\n",
    "from sklearn.feature_extraction.text import CountVectorizer\n",
    "from sklearn.model_selection import train_test_split\n",
    "from sklearn.naive_bayes import MultinomialNB\n",
    "from sklearn.metrics import accuracy_score\n",
    "import random"
   ]
  },
  {
   "cell_type": "markdown",
   "id": "9c6f2999-d5fd-4982-a5a0-7dcd03b54a45",
   "metadata": {},
   "source": [
    "Problem 1: "
   ]
  },
  {
   "cell_type": "code",
   "execution_count": 2,
   "id": "14b9f727-c605-4c49-b5f5-4be9d73fb06b",
   "metadata": {},
   "outputs": [
    {
     "name": "stdout",
     "output_type": "stream",
     "text": [
      "Array:\n",
      " [[ 2 21 15  8]\n",
      " [45 10  1 44]\n",
      " [21 22 29 33]\n",
      " [48  9 30  5]\n",
      " [42 39 36 32]]\n",
      "Antidiagonal 0: [2]\n",
      "Antidiagonal 1: [21, 45]\n",
      "Antidiagonal 2: [15, 10, 21]\n",
      "Antidiagonal 3: [8, 1, 22, 48]\n",
      "Antidiagonal 4: [44, 29, 9, 42]\n",
      "Antidiagonal 5: [33, 30, 39]\n",
      "Antidiagonal 6: [5, 36]\n",
      "Antidiagonal 7: [32]\n"
     ]
    }
   ],
   "source": [
    "            #generating the array and and extracting antidiagonal elements\n",
    "\n",
    "array = np.random.randint(1, 51, size=(5, 4))\n",
    "print(\"Array:\\n\", array)\n",
    "\n",
    "# Extracting antidiagonal elements\n",
    "rows, columns = array.shape \n",
    "antidiagonals = []\n",
    "\n",
    "for i in range(rows + columns - 1):\n",
    "    diag = []\n",
    "    for j in range(rows):\n",
    "        k = i - j\n",
    "       \n",
    "        \n",
    "        if (0 <= k < columns):\n",
    "         diag.append(array[j][k])\n",
    "    \n",
    "    antidiagonals.append(diag)\n",
    "\n",
    "# Printing the antidiagonals\n",
    "for index, d in enumerate(antidiagonals):\n",
    "    print(f\"Antidiagonal {index}: {d}\")"
   ]
  },
  {
   "cell_type": "code",
   "execution_count": 3,
   "id": "6080fb5f-db35-4800-a5cc-edc2fa890860",
   "metadata": {},
   "outputs": [
    {
     "name": "stdout",
     "output_type": "stream",
     "text": [
      "Mean of row  0 is 11.5\n",
      "Mean of row  1 is 25.0\n",
      "Mean of row  2 is 26.25\n",
      "Mean of row  3 is 23.0\n",
      "Mean of row  4 is 37.25\n"
     ]
    }
   ],
   "source": [
    "        #computing and printing of maximum value of each row\n",
    "\n",
    "for i in range(rows):\n",
    "    mean = np.mean(array[i])\n",
    "    print(\"Mean of row \",i ,\"is\", mean )\n",
    "    "
   ]
  },
  {
   "cell_type": "code",
   "execution_count": 4,
   "id": "b99bc521-2e33-4bb7-acfe-45c386521fd8",
   "metadata": {},
   "outputs": [
    {
     "name": "stdout",
     "output_type": "stream",
     "text": [
      "Overall_mean:  24.6\n",
      "Array with valur less than overall mean:  [2, 21, 15, 8, 10, 1, 21, 22, 9, 5]\n"
     ]
    }
   ],
   "source": [
    "            # getting a array where elements are < or equal to over all mean\n",
    "            #getting overall mean\n",
    "            #initialising array \n",
    "Overall_mean=np.mean(array);\n",
    "print(\"Overall_mean: \",Overall_mean)\n",
    "Lesser_than_average=[]\n",
    "\n",
    "for i in range(rows):\n",
    "    for j in range (columns):\n",
    "        if array[i][j]< Overall_mean:\n",
    "         Lesser_than_average.append(array[i][j])\n",
    "\n",
    "print(\"Array with valur less than overall mean: \",Lesser_than_average)\n"
   ]
  },
  {
   "cell_type": "code",
   "execution_count": 5,
   "id": "e95dfaf8-bdfe-41da-9ecb-de934a7a58dc",
   "metadata": {},
   "outputs": [],
   "source": [
    "                # making of function "
   ]
  },
  {
   "cell_type": "code",
   "execution_count": 6,
   "id": "71d30846",
   "metadata": {},
   "outputs": [],
   "source": [
    "def numpy_boundary_traversal(matrix):\n",
    "    if matrix.ndim != 2:\n",
    "        raise ValueError(\"Input must be a 2D NumPy array.\")\n",
    "\n",
    "    rows, cols = matrix.shape\n",
    "\n",
    "    # If the matrix has only one row\n",
    "    if rows == 1:\n",
    "        return matrix[0].tolist()\n",
    "\n",
    "    # If the matrix has only one column\n",
    "    if cols == 1:\n",
    "        return matrix[:, 0].tolist()\n",
    "\n",
    "    boundary = []\n",
    "\n",
    "    # Top row (left to right)\n",
    "    for j in range(cols):\n",
    "        boundary.append(matrix[0][j])\n",
    "\n",
    "    # Right column (top to bottom, excluding first row)\n",
    "    for i in range(1, rows):\n",
    "        boundary.append(matrix[i][cols - 1])\n",
    "\n",
    "    # Bottom row (right to left, excluding last column)\n",
    "    if rows > 1: \n",
    "        for j in range(cols - 2, -1, -1):\n",
    "            boundary.append(matrix[rows - 1][j])\n",
    "\n",
    "    # Left column (bottom to top, excluding first and last rows)\n",
    "    if cols > 1:\n",
    "        for i in range(rows - 2, 0, -1):\n",
    "            boundary.append(matrix[i][0])\n",
    "\n",
    "    return boundary\n",
    "        "
   ]
  },
  {
   "cell_type": "code",
   "execution_count": 7,
   "id": "70d2246c-03e2-459a-b372-dc87e1d310e4",
   "metadata": {},
   "outputs": [
    {
     "data": {
      "text/plain": [
       "[2, 21, 15, 8, 44, 33, 5, 32, 36, 39, 42, 48, 21, 45]"
      ]
     },
     "execution_count": 7,
     "metadata": {},
     "output_type": "execute_result"
    }
   ],
   "source": [
    "numpy_boundary_traversal(array)"
   ]
  },
  {
   "cell_type": "markdown",
   "id": "228b21e3-c1d4-4b27-8b4b-81a3affd06bf",
   "metadata": {},
   "source": [
    "Problem 2:"
   ]
  },
  {
   "cell_type": "code",
   "execution_count": 8,
   "id": "4edbc6ff",
   "metadata": {},
   "outputs": [
    {
     "name": "stdout",
     "output_type": "stream",
     "text": [
      "Array:\n",
      " [3.2121829  6.90183426 6.85789781 6.86067673 5.10712677 3.29611629\n",
      " 5.09212649 5.76467569 4.64137861 3.994587   3.04858849 1.23761077\n",
      " 8.86728314 8.30028914 8.28358448 5.94742315 8.99435727 2.22312125\n",
      " 6.70073862 4.93553517]\n",
      "Minimum: 1.2376107688634557\n",
      "Maximum: 8.994357271857597\n",
      "Median : 5.435901228545825\n"
     ]
    }
   ],
   "source": [
    "array_2 = np.random.uniform(1, 10, size=20)\n",
    "print(\"Array:\\n\", array_2)\n",
    "\n",
    "print(\"Minimum:\", np.min(array_2))\n",
    "print(\"Maximum:\", np.max(array_2))\n",
    "print(\"Median :\", np.median(array_2))\n",
    "\n",
    "\n"
   ]
  },
  {
   "cell_type": "code",
   "execution_count": 9,
   "id": "cbd98749",
   "metadata": {},
   "outputs": [
    {
     "name": "stdout",
     "output_type": "stream",
     "text": [
      "Modified Array (elements < 5 squared):\n",
      " [10.31811901  6.90183426  6.85789781  6.86067673  5.10712677 10.86438259\n",
      "  5.09212649  5.76467569 21.54239542 15.95672528  9.2938918   1.53168042\n",
      "  8.86728314  8.30028914  8.28358448  5.94742315  8.99435727  4.94226807\n",
      "  6.70073862 24.35950743]\n"
     ]
    }
   ],
   "source": [
    "modified_array_2 = np.copy(array_2)\n",
    "modified_array_2[modified_array_2 < 5] = modified_array_2[modified_array_2 < 5] ** 2\n",
    "print(\"Modified Array (elements < 5 squared):\\n\", modified_array_2)\n"
   ]
  },
  {
   "cell_type": "code",
   "execution_count": 10,
   "id": "e49a8e33",
   "metadata": {},
   "outputs": [
    {
     "data": {
      "text/plain": [
       "array([1.23761077, 8.99435727, 2.22312125, 8.86728314, 3.04858849,\n",
       "       8.30028914, 3.2121829 , 8.28358448, 3.29611629, 6.90183426,\n",
       "       3.994587  , 6.86067673, 4.64137861, 6.85789781, 4.93553517,\n",
       "       6.70073862, 5.09212649, 5.94742315, 5.10712677, 5.76467569])"
      ]
     },
     "execution_count": 10,
     "metadata": {},
     "output_type": "execute_result"
    }
   ],
   "source": [
    "def numpy_alternate_sort(array):\n",
    "    sorted_array = np.sort(array)\n",
    "    result = []\n",
    "\n",
    "    left = 0\n",
    "    right = len(sorted_array) - 1\n",
    "\n",
    "    while left <= right:\n",
    "        result.append(sorted_array[left])\n",
    "        left += 1\n",
    "        if left <= right:\n",
    "            result.append(sorted_array[right])\n",
    "            right -= 1\n",
    "\n",
    "    return np.array(result)\n",
    "\n",
    "numpy_alternate_sort(array_2)"
   ]
  },
  {
   "cell_type": "markdown",
   "id": "c01f84f8",
   "metadata": {},
   "source": [
    "Problem 3:"
   ]
  },
  {
   "cell_type": "code",
   "execution_count": 11,
   "id": "4a482b86",
   "metadata": {},
   "outputs": [
    {
     "name": "stdout",
     "output_type": "stream",
     "text": [
      "Original DataFrame:\n",
      "          Name    Subject  Score\n",
      "0       Ayush       Math     91\n",
      "1       Ayush    Science     67\n",
      "2       Ayush    History     82\n",
      "3       Ayush     Civics     70\n",
      "4       Ayush  Geography     81\n",
      "..        ...        ...    ...\n",
      "95  Amit_Shah   Politics     58\n",
      "96  Amit_Shah         CS     58\n",
      "97  Amit_Shah         PT     89\n",
      "98  Amit_Shah    English     75\n",
      "99  Amit_Shah   Sanskrit     74\n",
      "\n",
      "[100 rows x 3 columns]\n"
     ]
    }
   ],
   "source": [
    "                #creating sampul data\n",
    "names = ['Ayush', 'Bhaskar', 'Chaturvedi', 'Diwesh', 'Rkomm', 'Dinbandhu', 'Rahul', 'Lalmohan', 'Modi', 'Amit_Shah']\n",
    "subjects = ['Math', 'Science', 'History', 'Civics', 'Geography', 'Politics', 'CS', 'PT', 'English', 'Sanskrit']\n",
    "\n",
    "scores = np.random.randint(50, 101, size=10)\n",
    "data = [(student, subject) for student in names for subject in subjects]\n",
    "\n",
    "# Generate random scores between 50 and 100\n",
    "scores = np.random.randint(50, 101, size=len(data))\n",
    "\n",
    "# Create DataFrame\n",
    "data_frame = pd.DataFrame(data, columns=['Name', 'Subject'])\n",
    "data_frame['Score'] = scores\n",
    "\n",
    "print(\"Original DataFrame:\\n\", data_frame)\n"
   ]
  },
  {
   "cell_type": "code",
   "execution_count": 12,
   "id": "5cc24760",
   "metadata": {},
   "outputs": [
    {
     "name": "stdout",
     "output_type": "stream",
     "text": [
      "Original DataFrame:\n",
      "          Name    Subject  Score Grade\n",
      "0       Ayush       Math     91     A\n",
      "1       Ayush    Science     67     D\n",
      "2       Ayush    History     82     B\n",
      "3       Ayush     Civics     70     C\n",
      "4       Ayush  Geography     81     B\n",
      "..        ...        ...    ...   ...\n",
      "95  Amit_Shah   Politics     58     F\n",
      "96  Amit_Shah         CS     58     F\n",
      "97  Amit_Shah         PT     89     B\n",
      "98  Amit_Shah    English     75     C\n",
      "99  Amit_Shah   Sanskrit     74     C\n",
      "\n",
      "[100 rows x 4 columns]\n"
     ]
    }
   ],
   "source": [
    "def assign_grade(score):\n",
    "    if score >= 90:\n",
    "        return 'A'\n",
    "    elif score >= 80:\n",
    "        return 'B'\n",
    "    elif score >= 70:\n",
    "        return 'C'\n",
    "    elif score >= 60:\n",
    "        return 'D'\n",
    "    else:\n",
    "        return 'F'\n",
    "\n",
    "data_frame['Grade'] = data_frame['Score'].apply(assign_grade)\n",
    "print(\"Original DataFrame:\\n\", data_frame)"
   ]
  },
  {
   "cell_type": "code",
   "execution_count": 13,
   "id": "9711326c",
   "metadata": {},
   "outputs": [
    {
     "name": "stdout",
     "output_type": "stream",
     "text": [
      "\n",
      "DataFrame Sorted by Score (Descending):\n",
      "          Name    Subject  Score Grade\n",
      "44       Rkomm  Geography     99     A\n",
      "70    Lalmohan       Math     98     A\n",
      "11     Bhaskar    Science     98     A\n",
      "78    Lalmohan    English     98     A\n",
      "7        Ayush         PT     96     A\n",
      "..         ...        ...    ...   ...\n",
      "48       Rkomm    English     54     F\n",
      "94   Amit_Shah  Geography     53     F\n",
      "21  Chaturvedi    Science     52     F\n",
      "81        Modi    Science     51     F\n",
      "72    Lalmohan    History     51     F\n",
      "\n",
      "[100 rows x 4 columns]\n"
     ]
    }
   ],
   "source": [
    "print(\"\\nDataFrame Sorted by Score (Descending):\")\n",
    "print(data_frame.sort_values(by='Score', ascending=False))"
   ]
  },
  {
   "cell_type": "code",
   "execution_count": 14,
   "id": "f0c0dda0",
   "metadata": {},
   "outputs": [
    {
     "name": "stdout",
     "output_type": "stream",
     "text": [
      "\n",
      "Average Score Per Subject:\n",
      "Subject\n",
      "CS           70.7\n",
      "Civics       84.9\n",
      "English      77.3\n",
      "Geography    74.5\n",
      "History      70.3\n",
      "Math         75.3\n",
      "PT           80.8\n",
      "Politics     72.9\n",
      "Sanskrit     78.3\n",
      "Science      68.6\n",
      "Name: Score, dtype: float64\n"
     ]
    }
   ],
   "source": [
    "                #printing average of each subject\n",
    "print(\"\\nAverage Score Per Subject:\")\n",
    "print(data_frame.groupby('Subject')['Score'].mean())\n"
   ]
  },
  {
   "cell_type": "code",
   "execution_count": 15,
   "id": "f6a7e1b0",
   "metadata": {},
   "outputs": [
    {
     "name": "stdout",
     "output_type": "stream",
     "text": [
      "\n",
      "Students who scored A or B:\n",
      "           Name    Subject  Score Grade\n",
      "0        Ayush       Math     91     A\n",
      "2        Ayush    History     82     B\n",
      "4        Ayush  Geography     81     B\n",
      "5        Ayush   Politics     91     A\n",
      "7        Ayush         PT     96     A\n",
      "8        Ayush    English     93     A\n",
      "11     Bhaskar    Science     98     A\n",
      "13     Bhaskar     Civics     84     B\n",
      "14     Bhaskar  Geography     88     B\n",
      "19     Bhaskar   Sanskrit     90     A\n",
      "22  Chaturvedi    History     91     A\n",
      "23  Chaturvedi     Civics     80     B\n",
      "29  Chaturvedi   Sanskrit     87     B\n",
      "32      Diwesh    History     89     B\n",
      "33      Diwesh     Civics     95     A\n",
      "35      Diwesh   Politics     92     A\n",
      "37      Diwesh         PT     89     B\n",
      "44       Rkomm  Geography     99     A\n",
      "46       Rkomm         CS     85     B\n",
      "50   Dinbandhu       Math     87     B\n",
      "53   Dinbandhu     Civics     90     A\n",
      "56   Dinbandhu         CS     89     B\n",
      "57   Dinbandhu         PT     86     B\n",
      "58   Dinbandhu    English     90     A\n",
      "63       Rahul     Civics     94     A\n",
      "70    Lalmohan       Math     98     A\n",
      "73    Lalmohan     Civics     90     A\n",
      "74    Lalmohan  Geography     94     A\n",
      "75    Lalmohan   Politics     80     B\n",
      "77    Lalmohan         PT     88     B\n",
      "78    Lalmohan    English     98     A\n",
      "83        Modi     Civics     80     B\n",
      "85        Modi   Politics     81     B\n",
      "87        Modi         PT     83     B\n",
      "88        Modi    English     83     B\n",
      "90   Amit_Shah       Math     86     B\n",
      "91   Amit_Shah    Science     85     B\n",
      "93   Amit_Shah     Civics     89     B\n",
      "97   Amit_Shah         PT     89     B\n",
      "39.0\n"
     ]
    }
   ],
   "source": [
    "def pandas_filter_pass(dataframe):\n",
    "    return dataframe[dataframe['Grade'].isin(['A', 'B'])]\n",
    "\n",
    "passed_df = pandas_filter_pass(data_frame)\n",
    "print(\"\\nStudents who scored A or B:\\n\", passed_df.head(100))  \n",
    "\n",
    "print(passed_df.size/4)\n"
   ]
  }
 ],
 "metadata": {
  "kernelspec": {
   "display_name": "base",
   "language": "python",
   "name": "python3"
  },
  "language_info": {
   "codemirror_mode": {
    "name": "ipython",
    "version": 3
   },
   "file_extension": ".py",
   "mimetype": "text/x-python",
   "name": "python",
   "nbconvert_exporter": "python",
   "pygments_lexer": "ipython3",
   "version": "3.12.2"
  }
 },
 "nbformat": 4,
 "nbformat_minor": 5
}
